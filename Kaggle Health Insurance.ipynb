{
 "cells": [
  {
   "cell_type": "markdown",
   "metadata": {},
   "source": [
    "# Health Insurance cross sell prediction"
   ]
  },
  {
   "cell_type": "markdown",
   "metadata": {},
   "source": [
    "Cross-sell PredictionPredict Health Insurance Owners' who will be interested in Vehicle Insurance.<br>\n",
    "Here is the link to the <a href=\"https://www.kaggle.com/anmolkumar/health-insurance-cross-sell-prediction\" target = \"_blank\">dataset</a>."
   ]
  },
  {
   "cell_type": "markdown",
   "metadata": {},
   "source": [
    "## Dataset:-"
   ]
  },
  {
   "cell_type": "markdown",
   "metadata": {},
   "source": [
    "**`id`**  --> Unique ID for the customer<br>\n",
    "**`Gender`** --> Gender of the customer<br>\n",
    "**`Age`** --> Age of the customer<br>\n",
    "**`Driving_License`** --> 0 : Customer does not have DL, 1 : Customer already has DL<br>\n",
    "**`Region_Code`** --> Unique code for the region of the customer<br>\n",
    "**`Previously_Insured`** -->1 : Customer already has Vehicle Insurance, 0 : Customer doesn't have Vehicle Insurance<br>\n",
    "**`Vehicle_Age`** --> Age of the Vehicle<br>\n",
    "**`Vehicle_Damage`** --> 1 : Customer got his/her vehicle damaged in the past. 0 : Customer didn't get his/her vehicle damaged in the past.<br>\n",
    "**`Annual_Premium`** --> The amount customer needs to pay as premium in the year <br>\n",
    "**`PolicySalesChannel`** --> Anonymized Code for the channel of outreaching to the customer ie. Different Agents, Over Mail, Over Phone, In Person, etc.<br>\n",
    "**`Vintage`** --> Number of Days, Customer has been associated with the company<br>\n",
    "**`Response`** --> 1 : Customer is interested, 0 : Customer is not interested"
   ]
  },
  {
   "cell_type": "markdown",
   "metadata": {},
   "source": [
    "## Let's import some libraries"
   ]
  },
  {
   "cell_type": "code",
   "execution_count": 1,
   "metadata": {},
   "outputs": [],
   "source": [
    "import numpy as np\n",
    "import pandas as pd\n",
    "from pandas import Series,DataFrame\n",
    "import seaborn as sns\n",
    "import matplotlib.pyplot as plt\n",
    "%matplotlib inline\n",
    "sns.set_style(\"darkgrid\")\n",
    "from sklearn.linear_model import LogisticRegression\n",
    "from sklearn.naive_bayes  import GaussianNB\n",
    "from sklearn.ensemble import RandomForestClassifier\n",
    "from sklearn import metrics\n",
    "from sklearn.svm import SVC\n",
    "from sklearn.model_selection import train_test_split\n",
    "from sklearn.naive_bayes import MultinomialNB"
   ]
  },
  {
   "cell_type": "code",
   "execution_count": 2,
   "metadata": {},
   "outputs": [],
   "source": [
    "train = pd.read_csv(r\"C:\\Users\\sarthak\\Downloads\\Kaggle Health Insurance\\train.csv\")"
   ]
  },
  {
   "cell_type": "code",
   "execution_count": 3,
   "metadata": {},
   "outputs": [],
   "source": [
    "from sklearn.preprocessing import LabelEncoder\n",
    "le = LabelEncoder()\n",
    "train[\"Vehicle_Damage\"] = le.fit_transform(train.Vehicle_Damage)"
   ]
  },
  {
   "cell_type": "markdown",
   "metadata": {},
   "source": [
    "## Understanding the dataset"
   ]
  },
  {
   "cell_type": "code",
   "execution_count": 86,
   "metadata": {},
   "outputs": [
    {
     "name": "stdout",
     "output_type": "stream",
     "text": [
      "Summary: \n",
      "                  id            Age  Driving_License    Region_Code  \\\n",
      "count  381109.000000  381109.000000    381109.000000  381109.000000   \n",
      "mean   190555.000000      38.822584         0.997869      26.388807   \n",
      "std    110016.836208      15.511611         0.046110      13.229888   \n",
      "min         1.000000      20.000000         0.000000       0.000000   \n",
      "25%     95278.000000      25.000000         1.000000      15.000000   \n",
      "50%    190555.000000      36.000000         1.000000      28.000000   \n",
      "75%    285832.000000      49.000000         1.000000      35.000000   \n",
      "max    381109.000000      85.000000         1.000000      52.000000   \n",
      "\n",
      "       Previously_Insured  Vehicle_Damage  Annual_Premium  \\\n",
      "count       381109.000000   381109.000000   381109.000000   \n",
      "mean             0.458210        0.504877    30564.389581   \n",
      "std              0.498251        0.499977    17213.155057   \n",
      "min              0.000000        0.000000     2630.000000   \n",
      "25%              0.000000        0.000000    24405.000000   \n",
      "50%              0.000000        1.000000    31669.000000   \n",
      "75%              1.000000        1.000000    39400.000000   \n",
      "max              1.000000        1.000000   540165.000000   \n",
      "\n",
      "       Policy_Sales_Channel        Vintage       Response  \n",
      "count         381109.000000  381109.000000  381109.000000  \n",
      "mean             112.034295     154.347397       0.122563  \n",
      "std               54.203995      83.671304       0.327936  \n",
      "min                1.000000      10.000000       0.000000  \n",
      "25%               29.000000      82.000000       0.000000  \n",
      "50%              133.000000     154.000000       0.000000  \n",
      "75%              152.000000     227.000000       0.000000  \n",
      "max              163.000000     299.000000       1.000000  \n",
      "\n",
      "\n",
      "Missing Values: \n",
      "id                      0\n",
      "Gender                  0\n",
      "Age                     0\n",
      "Driving_License         0\n",
      "Region_Code             0\n",
      "Previously_Insured      0\n",
      "Vehicle_Age             0\n",
      "Vehicle_Damage          0\n",
      "Annual_Premium          0\n",
      "Policy_Sales_Channel    0\n",
      "Vintage                 0\n",
      "Response                0\n",
      "Age_Bucket              0\n",
      "dtype: int64\n",
      "\n",
      "\n",
      "Overall Response Rate: \n",
      "0.12256336113815208\n"
     ]
    }
   ],
   "source": [
    "print(\"Summary: \")\n",
    "print(train.describe())\n",
    "print('\\n')\n",
    "print(\"Missing Values: \")\n",
    "print(train.isna().sum())\n",
    "print('\\n')\n",
    "print(\"Overall Response Rate: \")\n",
    "print(train.Response.mean())"
   ]
  },
  {
   "cell_type": "markdown",
   "metadata": {},
   "source": [
    "#### Highlights:\n",
    "1) There are no Missing values in the data. Oh Great!!! God is with us.<br>\n",
    "2) The overall response rate is near to 12.25 percent."
   ]
  },
  {
   "cell_type": "code",
   "execution_count": 4,
   "metadata": {},
   "outputs": [
    {
     "data": {
      "text/html": [
       "<div>\n",
       "<style scoped>\n",
       "    .dataframe tbody tr th:only-of-type {\n",
       "        vertical-align: middle;\n",
       "    }\n",
       "\n",
       "    .dataframe tbody tr th {\n",
       "        vertical-align: top;\n",
       "    }\n",
       "\n",
       "    .dataframe thead th {\n",
       "        text-align: right;\n",
       "    }\n",
       "</style>\n",
       "<table border=\"1\" class=\"dataframe\">\n",
       "  <thead>\n",
       "    <tr style=\"text-align: right;\">\n",
       "      <th></th>\n",
       "      <th>id</th>\n",
       "      <th>Gender</th>\n",
       "      <th>Age</th>\n",
       "      <th>Driving_License</th>\n",
       "      <th>Region_Code</th>\n",
       "      <th>Previously_Insured</th>\n",
       "      <th>Vehicle_Age</th>\n",
       "      <th>Vehicle_Damage</th>\n",
       "      <th>Annual_Premium</th>\n",
       "      <th>Policy_Sales_Channel</th>\n",
       "      <th>Vintage</th>\n",
       "      <th>Response</th>\n",
       "    </tr>\n",
       "  </thead>\n",
       "  <tbody>\n",
       "    <tr>\n",
       "      <td>0</td>\n",
       "      <td>1</td>\n",
       "      <td>Male</td>\n",
       "      <td>44</td>\n",
       "      <td>1</td>\n",
       "      <td>28.0</td>\n",
       "      <td>0</td>\n",
       "      <td>&gt; 2 Years</td>\n",
       "      <td>1</td>\n",
       "      <td>40454.0</td>\n",
       "      <td>26.0</td>\n",
       "      <td>217</td>\n",
       "      <td>1</td>\n",
       "    </tr>\n",
       "    <tr>\n",
       "      <td>1</td>\n",
       "      <td>2</td>\n",
       "      <td>Male</td>\n",
       "      <td>76</td>\n",
       "      <td>1</td>\n",
       "      <td>3.0</td>\n",
       "      <td>0</td>\n",
       "      <td>1-2 Year</td>\n",
       "      <td>0</td>\n",
       "      <td>33536.0</td>\n",
       "      <td>26.0</td>\n",
       "      <td>183</td>\n",
       "      <td>0</td>\n",
       "    </tr>\n",
       "    <tr>\n",
       "      <td>2</td>\n",
       "      <td>3</td>\n",
       "      <td>Male</td>\n",
       "      <td>47</td>\n",
       "      <td>1</td>\n",
       "      <td>28.0</td>\n",
       "      <td>0</td>\n",
       "      <td>&gt; 2 Years</td>\n",
       "      <td>1</td>\n",
       "      <td>38294.0</td>\n",
       "      <td>26.0</td>\n",
       "      <td>27</td>\n",
       "      <td>1</td>\n",
       "    </tr>\n",
       "    <tr>\n",
       "      <td>3</td>\n",
       "      <td>4</td>\n",
       "      <td>Male</td>\n",
       "      <td>21</td>\n",
       "      <td>1</td>\n",
       "      <td>11.0</td>\n",
       "      <td>1</td>\n",
       "      <td>&lt; 1 Year</td>\n",
       "      <td>0</td>\n",
       "      <td>28619.0</td>\n",
       "      <td>152.0</td>\n",
       "      <td>203</td>\n",
       "      <td>0</td>\n",
       "    </tr>\n",
       "    <tr>\n",
       "      <td>4</td>\n",
       "      <td>5</td>\n",
       "      <td>Female</td>\n",
       "      <td>29</td>\n",
       "      <td>1</td>\n",
       "      <td>41.0</td>\n",
       "      <td>1</td>\n",
       "      <td>&lt; 1 Year</td>\n",
       "      <td>0</td>\n",
       "      <td>27496.0</td>\n",
       "      <td>152.0</td>\n",
       "      <td>39</td>\n",
       "      <td>0</td>\n",
       "    </tr>\n",
       "  </tbody>\n",
       "</table>\n",
       "</div>"
      ],
      "text/plain": [
       "   id  Gender  Age  Driving_License  Region_Code  Previously_Insured  \\\n",
       "0   1    Male   44                1         28.0                   0   \n",
       "1   2    Male   76                1          3.0                   0   \n",
       "2   3    Male   47                1         28.0                   0   \n",
       "3   4    Male   21                1         11.0                   1   \n",
       "4   5  Female   29                1         41.0                   1   \n",
       "\n",
       "  Vehicle_Age  Vehicle_Damage  Annual_Premium  Policy_Sales_Channel  Vintage  \\\n",
       "0   > 2 Years               1         40454.0                  26.0      217   \n",
       "1    1-2 Year               0         33536.0                  26.0      183   \n",
       "2   > 2 Years               1         38294.0                  26.0       27   \n",
       "3    < 1 Year               0         28619.0                 152.0      203   \n",
       "4    < 1 Year               0         27496.0                 152.0       39   \n",
       "\n",
       "   Response  \n",
       "0         1  \n",
       "1         0  \n",
       "2         1  \n",
       "3         0  \n",
       "4         0  "
      ]
     },
     "execution_count": 4,
     "metadata": {},
     "output_type": "execute_result"
    }
   ],
   "source": [
    "train.head()"
   ]
  },
  {
   "cell_type": "markdown",
   "metadata": {},
   "source": [
    "## Hypothesis from the dataset"
   ]
  },
  {
   "cell_type": "markdown",
   "metadata": {},
   "source": [
    "### Questions which can be solved with help of this dataset.\n",
    "* Which feature has the highest significance on the response?\n",
    "* Are they any targeting a particular gender? If yes, is it willingly or not. If not willingly, is there any way it can be corrected.\n",
    "* Is previously insuring a vehicle a gender thing, like female are more likely to insure than male.\n",
    "* Does gender play a role in vehicle damage?\n",
    "* Which gender is more loyal customer?\n",
    "* Is there any significance gap between annual premium paid by male and female?\n",
    "* Which policy channel has highest conversion rate for each gender. Which channel is most used for contacting each gender.\n",
    "* Age and gender, does it play any role in response...together. like male of age 40-50 are more likely to insure.\n",
    "* Age and previously insured......does age play a role in insurance?\n",
    "* Does age play role in vehicle damage?\n",
    "* Which policy channel has influence over which age group."
   ]
  },
  {
   "cell_type": "markdown",
   "metadata": {},
   "source": [
    "### Function to get details of a particular feature-"
   ]
  },
  {
   "cell_type": "code",
   "execution_count": 5,
   "metadata": {},
   "outputs": [],
   "source": [
    "def all_about_feature(feature):\n",
    "    print(\"Unique values and their count: \")\n",
    "    print(feature.value_counts())\n",
    "    print(\"\\n\")\n",
    "    print(\"Response Rate: \")\n",
    "    print(train.groupby(feature)[\"Response\"].mean().sort_values(ascending=False))\n",
    "    print(\"\\n\")\n",
    "    print(\"Total Response received: \")\n",
    "    print(train.groupby(feature)[\"Response\"].count())"
   ]
  },
  {
   "cell_type": "markdown",
   "metadata": {},
   "source": [
    "### Let's start with analyzing Gender feature"
   ]
  },
  {
   "cell_type": "code",
   "execution_count": 21,
   "metadata": {},
   "outputs": [
    {
     "name": "stdout",
     "output_type": "stream",
     "text": [
      "Unique values and their count: \n",
      "Male      206089\n",
      "Female    175020\n",
      "Name: Gender, dtype: int64\n",
      "\n",
      "\n",
      "Response Rate: \n",
      "Gender\n",
      "Male      0.138411\n",
      "Female    0.103902\n",
      "Name: Response, dtype: float64\n",
      "\n",
      "\n",
      "Total Response received: \n",
      "Gender\n",
      "Female    175020\n",
      "Male      206089\n",
      "Name: Response, dtype: int64\n"
     ]
    },
    {
     "data": {
      "image/png": "[encoded data removed]",
      "text/plain": [
       "<Figure size 720x360 with 2 Axes>"
      ]
     },
     "metadata": {
      "needs_background": "light"
     },
     "output_type": "display_data"
    }
   ],
   "source": [
    "all_about_feature(train.Gender)\n",
    "plt.figure(figsize=(10,5))\n",
    "plt.subplot(1,2,1)\n",
    "plt.pie(train.Gender.value_counts(),labels=[\"Male\",'Female'],shadow=True,autopct='%1.1f%%')\n",
    "plt.title(\"Gender distribution\")\n",
    "plt.tight_layout()\n",
    "plt.subplots_adjust(wspace=1)\n",
    "plt.subplot(1,2,2)\n",
    "train.groupby(\"Gender\")[\"Response\"].mean().plot(kind='bar',cmap='summer')\n",
    "plt.title(\"Response Rate\")\n",
    "plt.ylabel(\"Rate\")\n",
    "plt.xticks(rotation=\"horizontal\")\n",
    "plt.tight_layout()"
   ]
  },
  {
   "cell_type": "markdown",
   "metadata": {},
   "source": [
    "1) There are 54 percent Male and 46 percent Female in the dataset.<br>\n",
    "2) Response rate of Male is 13 percent while response rate of female is 10 percent. The response rate of male is nearly **30** percent more than that of female.<br>\n",
    "3) `There are more male customers, which may be an intentional thing because response rate is higher for male. So, it is reasonable to target more male customers.`"
   ]
  },
  {
   "cell_type": "markdown",
   "metadata": {},
   "source": [
    "### Is vehicle getting previously insured a \"Gender\" thing?"
   ]
  },
  {
   "cell_type": "code",
   "execution_count": 22,
   "metadata": {},
   "outputs": [
    {
     "data": {
      "text/plain": [
       "Gender\n",
       "Female    0.502508\n",
       "Male      0.420590\n",
       "Name: Previously_Insured, dtype: float64"
      ]
     },
     "execution_count": 22,
     "metadata": {},
     "output_type": "execute_result"
    }
   ],
   "source": [
    "train.groupby(\"Gender\")[\"Previously_Insured\"].mean()\n",
    "#Can be represented as key points after a topic ends."
   ]
  },
  {
   "cell_type": "markdown",
   "metadata": {},
   "source": [
    "From this data, it seems more female get their vehicle insured. **19** percent more female get vehicle insured as compared to male."
   ]
  },
  {
   "cell_type": "markdown",
   "metadata": {},
   "source": [
    "### Let's check, what happens to response rate of particular gender when they previously insured."
   ]
  },
  {
   "cell_type": "code",
   "execution_count": 25,
   "metadata": {},
   "outputs": [
    {
     "name": "stdout",
     "output_type": "stream",
     "text": [
      "When it is previously not insured:\n",
      "Gender\n",
      "Female    0.208140\n",
      "Male      0.238079\n",
      "Name: Response, dtype: float64\n",
      "\n",
      "\n",
      "When it is previously insured: \n",
      "Gender\n",
      "Female    0.000705\n",
      "Male      0.001108\n",
      "Name: Response, dtype: float64\n"
     ]
    },
    {
     "data": {
      "text/plain": [
       "Gender  Previously_Insured\n",
       "Female  0                     0.208140\n",
       "        1                     0.000705\n",
       "Male    0                     0.238079\n",
       "        1                     0.001108\n",
       "Name: Response, dtype: float64"
      ]
     },
     "execution_count": 25,
     "metadata": {},
     "output_type": "execute_result"
    }
   ],
   "source": [
    "print(\"When it is previously not insured:\")\n",
    "print(train[train.Previously_Insured==0].groupby(\"Gender\")[\"Response\"].mean())\n",
    "print(\"\\n\")\n",
    "print(\"When it is previously insured: \")\n",
    "print(train[train.Previously_Insured==1].groupby(\"Gender\")[\"Response\"].mean())\n",
    "train.groupby([\"Gender\",\"Previously_Insured\"]).Response.mean()"
   ]
  },
  {
   "cell_type": "markdown",
   "metadata": {},
   "source": [
    "##### There is huge difference between response rate of particular gender when they have previously insured. By which we can imply, previously_insured is a good metric for response rate."
   ]
  },
  {
   "cell_type": "markdown",
   "metadata": {},
   "source": [
    "## Let's check whether vehicle damage a gender thing?"
   ]
  },
  {
   "cell_type": "code",
   "execution_count": 28,
   "metadata": {},
   "outputs": [
    {
     "name": "stdout",
     "output_type": "stream",
     "text": [
      "Gender\n",
      "Female    0.455177\n",
      "Male      0.547084\n",
      "Name: Vehicle_Damage, dtype: float64\n"
     ]
    },
    {
     "data": {
      "image/png": "[encoded data removed]",
      "text/plain": [
       "<Figure size 432x288 with 1 Axes>"
      ]
     },
     "metadata": {
      "needs_background": "light"
     },
     "output_type": "display_data"
    }
   ],
   "source": [
    "print(train.groupby(\"Gender\")[\"Vehicle_Damage\"].mean())\n",
    "train.groupby(\"Gender\")[\"Vehicle_Damage\"].mean().plot(kind='bar',cmap='summer')\n",
    "plt.xlabel(\"Gender\")\n",
    "plt.xticks(rotation='horizontal')\n",
    "plt.ylabel(\"Vehicle Damage mean\")\n",
    "plt.title(\"Vehicle Damaged by a particular Gender\")\n",
    "plt.tight_layout()"
   ]
  },
  {
   "cell_type": "markdown",
   "metadata": {},
   "source": [
    "From the data, it seems more Male are involved in vehicle damage than Female."
   ]
  },
  {
   "cell_type": "markdown",
   "metadata": {},
   "source": [
    "## Vehicle Damage - Feature analysis"
   ]
  },
  {
   "cell_type": "code",
   "execution_count": 12,
   "metadata": {},
   "outputs": [
    {
     "name": "stdout",
     "output_type": "stream",
     "text": [
      "When vehicle is not damaged, the conversion rate is: \n",
      "Gender\n",
      "Female    0.004384\n",
      "Male      0.006042\n",
      "Name: Response, dtype: float64\n",
      "\n",
      "\n",
      "When vehicle is damaged, the conversion rate is: \n",
      "Gender\n",
      "Female    0.223021\n",
      "Male      0.247996\n",
      "Name: Response, dtype: float64\n"
     ]
    },
    {
     "data": {
      "image/png": "[encoded data removed]",
      "text/plain": [
       "<Figure size 720x288 with 2 Axes>"
      ]
     },
     "metadata": {
      "needs_background": "light"
     },
     "output_type": "display_data"
    }
   ],
   "source": [
    "print(\"When vehicle is not damaged, the conversion rate is: \")\n",
    "print(train[train.Vehicle_Damage==0].groupby(\"Gender\")[\"Response\"].mean())\n",
    "print(\"\\n\")\n",
    "print(\"When vehicle is damaged, the conversion rate is: \")\n",
    "print(train[train.Vehicle_Damage==1].groupby(\"Gender\")[\"Response\"].mean())\n",
    "plt.figure(figsize=(10,4))\n",
    "plt.subplot(1,2,1)\n",
    "train[train.Vehicle_Damage==0].groupby(\"Gender\")[\"Response\"].mean().plot(kind='bar',cmap='summer')\n",
    "plt.subplots_adjust(wspace=0.5)\n",
    "plt.xticks(rotation='horizontal')\n",
    "plt.title(\"Response rate when vehicle is not damaged\")\n",
    "plt.subplot(1,2,2)\n",
    "train[train.Vehicle_Damage==1].groupby(\"Gender\")[\"Response\"].mean().plot(kind='bar',cmap='summer')\n",
    "plt.xticks(rotation='horizontal')\n",
    "plt.title(\"Response rate when vehicle is damaged\")\n",
    "plt.tight_layout() "
   ]
  },
  {
   "cell_type": "markdown",
   "metadata": {},
   "source": [
    "1) Response rate is much higher when vehicle is damaged as compared to when it is not damaged.<br>\n",
    "2) Response rate when vehicle is damaged is nearly 40 times when vehicle is not damaged. This means, damaged vehicle incites some fear to get insurance."
   ]
  },
  {
   "cell_type": "code",
   "execution_count": 9,
   "metadata": {},
   "outputs": [
    {
     "data": {
      "text/plain": [
       "Gender\n",
       "Female    154.575917\n",
       "Male      154.153327\n",
       "Name: Vintage, dtype: float64"
      ]
     },
     "execution_count": 9,
     "metadata": {},
     "output_type": "execute_result"
    }
   ],
   "source": [
    "train.groupby(\"Gender\")[\"Vintage\"].mean()"
   ]
  },
  {
   "cell_type": "markdown",
   "metadata": {},
   "source": [
    "Both the gender have similar vintage (same number of days after becoming customer)"
   ]
  },
  {
   "cell_type": "code",
   "execution_count": 13,
   "metadata": {},
   "outputs": [
    {
     "data": {
      "text/plain": [
       "Gender\n",
       "Female    30495.787990\n",
       "Male      30622.649122\n",
       "Name: Annual_Premium, dtype: float64"
      ]
     },
     "execution_count": 13,
     "metadata": {},
     "output_type": "execute_result"
    }
   ],
   "source": [
    "train.groupby(\"Gender\")[\"Annual_Premium\"].mean()"
   ]
  },
  {
   "cell_type": "markdown",
   "metadata": {},
   "source": [
    "There is not much difference in annual premium paid by both the gender."
   ]
  },
  {
   "cell_type": "markdown",
   "metadata": {},
   "source": [
    "### Are different gender contacted via different medium?"
   ]
  },
  {
   "cell_type": "code",
   "execution_count": 14,
   "metadata": {},
   "outputs": [
    {
     "name": "stdout",
     "output_type": "stream",
     "text": [
      "Gender\n",
      "Female    152.0\n",
      "Male      152.0\n",
      "Name: Policy_Sales_Channel, dtype: float64\n",
      "\n",
      "\n",
      "Response Rate:\n",
      "Male:\n",
      "0.03495188774376592\n",
      "Female:\n",
      "0.023769255981645362\n"
     ]
    }
   ],
   "source": [
    "print(train.groupby(\"Gender\")[\"Policy_Sales_Channel\"].agg(Series.mode))\n",
    "print('\\n')\n",
    "print(\"Response Rate:\")\n",
    "print(\"Male:\")\n",
    "print(train[((train.Policy_Sales_Channel==152) & (train.Gender==\"Male\"))].Response.mean())\n",
    "print(\"Female:\")\n",
    "print(train[((train.Policy_Sales_Channel==152) & (train.Gender==\"Female\"))].Response.mean())"
   ]
  },
  {
   "cell_type": "markdown",
   "metadata": {},
   "source": [
    "* This implies that similar mode of communication is used for both the gender.\n",
    "* The most frequent mode of communication used has response rate as low as 2-3 percent for both male and female.\n",
    "* **What is the idea behind still using it as frequently. Is it cheaper or easily accessible?**"
   ]
  },
  {
   "cell_type": "code",
   "execution_count": 14,
   "metadata": {},
   "outputs": [
    {
     "data": {
      "text/plain": [
       "Policy_Sales_Channel\n",
       "123.0    1.000000\n",
       "101.0    0.500000\n",
       "81.0     0.500000\n",
       "36.0     0.400000\n",
       "155.0    0.343866\n",
       "           ...   \n",
       "38.0     0.000000\n",
       "82.0     0.000000\n",
       "83.0     0.000000\n",
       "32.0     0.000000\n",
       "79.0     0.000000\n",
       "Name: Response, Length: 140, dtype: float64"
      ]
     },
     "execution_count": 14,
     "metadata": {},
     "output_type": "execute_result"
    }
   ],
   "source": [
    "train[train.Gender==\"Female\"].groupby([\"Policy_Sales_Channel\"])[\"Response\"].mean().sort_values(ascending=False)"
   ]
  },
  {
   "cell_type": "code",
   "execution_count": 15,
   "metadata": {},
   "outputs": [
    {
     "data": {
      "text/plain": [
       "Policy_Sales_Channel\n",
       "43.0     1.000000\n",
       "68.0     0.500000\n",
       "100.0    0.500000\n",
       "28.0     0.500000\n",
       "87.0     0.333333\n",
       "           ...   \n",
       "105.0    0.000000\n",
       "46.0     0.000000\n",
       "84.0     0.000000\n",
       "108.0    0.000000\n",
       "144.0    0.000000\n",
       "Name: Response, Length: 151, dtype: float64"
      ]
     },
     "execution_count": 15,
     "metadata": {},
     "output_type": "execute_result"
    }
   ],
   "source": [
    "train[train.Gender==\"Male\"].groupby([\"Policy_Sales_Channel\"])[\"Response\"].mean().sort_values(ascending=False)"
   ]
  },
  {
   "cell_type": "code",
   "execution_count": 35,
   "metadata": {},
   "outputs": [
    {
     "data": {
      "text/plain": [
       "Policy_Sales_Channel\n",
       "80.0     0.285714\n",
       "121.0    0.296875\n",
       "3.0      0.304015\n",
       "163.0    0.304183\n",
       "155.0    0.320097\n",
       "36.0     0.326923\n",
       "28.0     0.333333\n",
       "27.0     0.333333\n",
       "43.0     1.000000\n",
       "123.0    1.000000\n",
       "Name: Response, dtype: float64"
      ]
     },
     "execution_count": 35,
     "metadata": {},
     "output_type": "execute_result"
    }
   ],
   "source": [
    "train.groupby(\"Policy_Sales_Channel\")[\"Response\"].mean().sort_values().tail(10)"
   ]
  },
  {
   "cell_type": "markdown",
   "metadata": {},
   "source": [
    "#### No conclusions can be drawn as count of some policy sales channel is very low, less than 10-20."
   ]
  },
  {
   "cell_type": "markdown",
   "metadata": {},
   "source": [
    "## Age Analysis"
   ]
  },
  {
   "cell_type": "code",
   "execution_count": 45,
   "metadata": {},
   "outputs": [
    {
     "name": "stdout",
     "output_type": "stream",
     "text": [
      "Unique values and their count: \n",
      "24    25960\n",
      "23    24256\n",
      "22    20964\n",
      "25    20636\n",
      "21    16457\n",
      "      ...  \n",
      "81       56\n",
      "82       29\n",
      "83       22\n",
      "84       11\n",
      "85       11\n",
      "Name: Age, Length: 66, dtype: int64\n",
      "\n",
      "\n",
      "Response Rate: \n",
      "Age\n",
      "38    0.228546\n",
      "36    0.227398\n",
      "35    0.225284\n",
      "34    0.220020\n",
      "47    0.218610\n",
      "        ...   \n",
      "21    0.034879\n",
      "82    0.034483\n",
      "20    0.027439\n",
      "84    0.000000\n",
      "85    0.000000\n",
      "Name: Response, Length: 66, dtype: float64\n",
      "\n",
      "\n",
      "Total Response received: \n",
      "Age\n",
      "20     6232\n",
      "21    16457\n",
      "22    20964\n",
      "23    24256\n",
      "24    25960\n",
      "      ...  \n",
      "81       56\n",
      "82       29\n",
      "83       22\n",
      "84       11\n",
      "85       11\n",
      "Name: Response, Length: 66, dtype: int64\n"
     ]
    }
   ],
   "source": [
    "all_about_feature(train.Age)"
   ]
  },
  {
   "cell_type": "code",
   "execution_count": 15,
   "metadata": {},
   "outputs": [
    {
     "data": {
      "text/plain": [
       "0.046511627906976744"
      ]
     },
     "execution_count": 15,
     "metadata": {},
     "output_type": "execute_result"
    }
   ],
   "source": [
    "train[train.Age>80].Response.mean()"
   ]
  },
  {
   "cell_type": "markdown",
   "metadata": {},
   "source": [
    "#### The response rate of people with age greater than 80 years is near to 4 percent."
   ]
  },
  {
   "cell_type": "markdown",
   "metadata": {},
   "source": [
    "### Analysis for creating bucket for age:"
   ]
  },
  {
   "cell_type": "markdown",
   "metadata": {},
   "source": [
    "We can see it is tough  to draw any conclusion with just using age. We need to regularise the age feature so that we can draw conclusion and some kind of insights from the data.<br>\n",
    "We can plot histogram and decide bucket size according to that. And once we create the bucket, we will analyse it with other features in the train dataset. Also, does bucketing help in drawing some conclusions? We will get the answer to that question."
   ]
  },
  {
   "cell_type": "code",
   "execution_count": 30,
   "metadata": {
    "scrolled": true
   },
   "outputs": [
    {
     "data": {
      "image/png": "[encoded data removed]",
      "text/plain": [
       "<Figure size 432x288 with 1 Axes>"
      ]
     },
     "metadata": {
      "needs_background": "light"
     },
     "output_type": "display_data"
    }
   ],
   "source": [
    "sns.distplot(train.Age)\n",
    "#suggested age bucket = 20 - 35,35-55 , 55-80.\n",
    "plt.xlabel(\"Age\")\n",
    "plt.title(\"Age histogram\")\n",
    "plt.tight_layout()"
   ]
  },
  {
   "cell_type": "markdown",
   "metadata": {},
   "source": [
    "We can see three different distributions in the whole histogram. First distribution is from age 20 to 35, it is bit like normal distribution which is tall and skinny. Second distribution is from 35 to 55, which also looks like normal distribution which is short and fat. Final and third distribution is like some inverse linear function as count is falling as age is increasing.<br>\n",
    " \n",
    "#### 3 buckets which we will be created (a) 20 - 35 (b) 35-55 (c) 55 and above."
   ]
  },
  {
   "cell_type": "markdown",
   "metadata": {},
   "source": [
    "### Let's create Age bucket :"
   ]
  },
  {
   "cell_type": "code",
   "execution_count": 18,
   "metadata": {},
   "outputs": [],
   "source": [
    "def bucket(ser):\n",
    "    if ser>55:\n",
    "        return \"C\"\n",
    "    elif ser>35:\n",
    "        return \"B\"\n",
    "    else:\n",
    "        return \"A\"\n",
    "    \n",
    "train[\"Age_Bucket\"] = train.Age.apply(bucket)"
   ]
  },
  {
   "cell_type": "markdown",
   "metadata": {},
   "source": [
    "### Analyzing the age bucket : "
   ]
  },
  {
   "cell_type": "code",
   "execution_count": 19,
   "metadata": {},
   "outputs": [
    {
     "name": "stdout",
     "output_type": "stream",
     "text": [
      "Unique values and their count: \n",
      "A    186812\n",
      "B    132081\n",
      "C     62216\n",
      "Name: Age_Bucket, dtype: int64\n",
      "\n",
      "\n",
      "Response Rate: \n",
      "Age_Bucket\n",
      "B    0.206805\n",
      "C    0.114922\n",
      "A    0.065547\n",
      "Name: Response, dtype: float64\n",
      "\n",
      "\n",
      "Total Response received: \n",
      "Age_Bucket\n",
      "A    186812\n",
      "B    132081\n",
      "C     62216\n",
      "Name: Response, dtype: int64\n"
     ]
    },
    {
     "data": {
      "text/plain": [
       "Text(0, 0.5, 'Rate')"
      ]
     },
     "execution_count": 19,
     "metadata": {},
     "output_type": "execute_result"
    },
    {
     "data": {
      "image/png": "[encoded data removed]",
      "text/plain": [
       "<Figure size 576x360 with 2 Axes>"
      ]
     },
     "metadata": {
      "needs_background": "light"
     },
     "output_type": "display_data"
    }
   ],
   "source": [
    "all_about_feature(train.Age_Bucket)\n",
    "plt.figure(figsize=(8,5))\n",
    "plt.subplot(1,2,1)\n",
    "plt.pie(train[\"Age_Bucket\"].value_counts(),labels=[\"20-35\",\"35-55\",\"55 and above\"],shadow=True,autopct='%1.1f%%',radius=1.5)\n",
    "plt.tight_layout()\n",
    "plt.subplots_adjust(wspace=0.5)\n",
    "plt.subplot(1,2,2)\n",
    "train.groupby(\"Age_Bucket\")[\"Response\"].mean().plot(kind='bar',cmap='summer')\n",
    "plt.xticks(rotation='horizontal')\n",
    "plt.title(\"Response Rate\")\n",
    "plt.ylabel(\"Rate\")"
   ]
  },
  {
   "cell_type": "markdown",
   "metadata": {},
   "source": [
    "1) Around 50 percent of the total people are younger than 35.<br>\n",
    "2) Response rate is highest in \"B\" bucket followed by \"C\" and its lowest in \"A\" bucket .<br>\n",
    "3) Response rate for bucket \"C\" is nearly 4 times as \"A\" while double of \"C\".<br>\n",
    "4) People from 35-55 seems to be a much better to approach for insurance.<br>\n",
    "5) One reason for such low response rate in \"A\" bucket can be people are really young and could not afford vehicle at first place. <br>\n",
    "\n",
    "**The age group 20-35 seems to be most targeted despite having very less response rate as compared  to other age groups. Instead, we can target more people in the bucket of 35-55 age group, which has highest response rate.** "
   ]
  },
  {
   "cell_type": "code",
   "execution_count": 21,
   "metadata": {},
   "outputs": [
    {
     "name": "stdout",
     "output_type": "stream",
     "text": [
      "Age_Bucket  Gender\n",
      "A           Female    0.053691\n",
      "            Male      0.079481\n",
      "B           Female    0.203914\n",
      "            Male      0.208596\n",
      "C           Female    0.104504\n",
      "            Male      0.121272\n",
      "Name: Response, dtype: float64\n"
     ]
    },
    {
     "data": {
      "image/png": "[encoded data removed]",
      "text/plain": [
       "<Figure size 432x288 with 1 Axes>"
      ]
     },
     "metadata": {
      "needs_background": "light"
     },
     "output_type": "display_data"
    }
   ],
   "source": [
    "print(train.groupby([\"Age_Bucket\",\"Gender\"]).Response.mean())\n",
    "train.groupby([\"Age_Bucket\",\"Gender\"]).Response.mean().plot(kind='bar',cmap='summer')\n",
    "plt.xticks(rotation='horizontal')\n",
    "plt.ylabel(\"Response rate\")\n",
    "plt.tight_layout()"
   ]
  },
  {
   "cell_type": "markdown",
   "metadata": {},
   "source": [
    "There is not much difference in response rate for female and male in various age bucket. <br>Age bucket behaves similar for either of the gender."
   ]
  },
  {
   "cell_type": "code",
   "execution_count": 50,
   "metadata": {},
   "outputs": [
    {
     "data": {
      "text/plain": [
       "Age_Bucket  Previously_Insured\n",
       "A           0                     0.171385\n",
       "            1                     0.000708\n",
       "B           0                     0.286274\n",
       "            1                     0.001735\n",
       "C           0                     0.177034\n",
       "            1                     0.000548\n",
       "Name: Response, dtype: float64"
      ]
     },
     "execution_count": 50,
     "metadata": {},
     "output_type": "execute_result"
    }
   ],
   "source": [
    "train.groupby([\"Age_Bucket\",\"Previously_Insured\"]).Response.mean()"
   ]
  },
  {
   "cell_type": "markdown",
   "metadata": {},
   "source": [
    "#### Vehicles which are previously insured have much lower response rate. So combining with other features will not tell us anything insightful."
   ]
  },
  {
   "cell_type": "markdown",
   "metadata": {},
   "source": [
    "### Is there any relation between vehicle damage and age group?"
   ]
  },
  {
   "cell_type": "code",
   "execution_count": 53,
   "metadata": {},
   "outputs": [
    {
     "name": "stdout",
     "output_type": "stream",
     "text": [
      "Age_Bucket\n",
      "A    0.338506\n",
      "B    0.682172\n",
      "C    0.628038\n",
      "Name: Vehicle_Damage, dtype: float64\n"
     ]
    },
    {
     "data": {
      "image/png": "[encoded data removed]",
      "text/plain": [
       "<Figure size 432x288 with 1 Axes>"
      ]
     },
     "metadata": {
      "needs_background": "light"
     },
     "output_type": "display_data"
    }
   ],
   "source": [
    "print(train.groupby(\"Age_Bucket\").Vehicle_Damage.mean())\n",
    "train.groupby(\"Age_Bucket\").Vehicle_Damage.mean().plot(kind='bar',cmap='summer')\n",
    "plt.xticks(rotation='horizontal')\n",
    "plt.tight_layout()"
   ]
  },
  {
   "cell_type": "markdown",
   "metadata": {},
   "source": [
    "* Age bucket \"A\" (20-35) people have very less damaged vehicle. This implies that young people tend to have less vehicle damage than any other age group of people.\n",
    "* Different age groups have different chances of vehicle damage. "
   ]
  },
  {
   "cell_type": "code",
   "execution_count": 58,
   "metadata": {},
   "outputs": [
    {
     "data": {
      "text/plain": [
       "<seaborn.axisgrid.FacetGrid at 0x19146ca988>"
      ]
     },
     "execution_count": 58,
     "metadata": {},
     "output_type": "execute_result"
    },
    {
     "data": {
      "image/png": "[encoded data removed]",
      "text/plain": [
       "<Figure size 360x360 with 1 Axes>"
      ]
     },
     "metadata": {
      "needs_background": "light"
     },
     "output_type": "display_data"
    }
   ],
   "source": [
    "sns.lmplot(\"Vehicle_Damage\",\"Response\",data=train)"
   ]
  },
  {
   "cell_type": "markdown",
   "metadata": {},
   "source": [
    "#### There is little positive correlation between Vehicle Damage and Response which means when a vehicle is damaged it has higher probablity to get response."
   ]
  },
  {
   "cell_type": "code",
   "execution_count": 23,
   "metadata": {},
   "outputs": [
    {
     "name": "stdout",
     "output_type": "stream",
     "text": [
      "Age_Bucket\n",
      "A    29670.942696\n",
      "B    30581.101922\n",
      "C    33211.606002\n",
      "Name: Annual_Premium, dtype: float64\n"
     ]
    },
    {
     "data": {
      "image/png": "[encoded data removed]",
      "text/plain": [
       "<Figure size 432x288 with 1 Axes>"
      ]
     },
     "metadata": {
      "needs_background": "light"
     },
     "output_type": "display_data"
    }
   ],
   "source": [
    "print(train.groupby(\"Age_Bucket\").Annual_Premium.mean())\n",
    "plt.figure(figsize=(6,4))\n",
    "train.groupby(\"Age_Bucket\").Annual_Premium.mean().plot(kind='bar',cmap='summer')\n",
    "plt.xticks(rotation='horizontal')\n",
    "plt.ylabel(\"Annual Premium\")\n",
    "plt.title(\"Annual Premium paid by different age groups\")\n",
    "plt.tight_layout()"
   ]
  },
  {
   "cell_type": "markdown",
   "metadata": {},
   "source": [
    "There is slight variation in annual premium paid by different age groups.<br>\n",
    "**As the age increases, chances of paying higher annual premium increases.**"
   ]
  },
  {
   "cell_type": "markdown",
   "metadata": {},
   "source": [
    "### Are different age groups targeted using same or different Policy channel?"
   ]
  },
  {
   "cell_type": "code",
   "execution_count": 71,
   "metadata": {},
   "outputs": [
    {
     "name": "stdout",
     "output_type": "stream",
     "text": [
      "Age_Bucket\n",
      "A    152.0\n",
      "B    124.0\n",
      "C     26.0\n",
      "Name: Policy_Sales_Channel, dtype: float64\n",
      "\n",
      "\n",
      "Response rate for most used communication:\n",
      "A:-  0.02849493510356813\n",
      "B:-  0.19860127895288407\n",
      "C:-  0.133086876155268\n"
     ]
    }
   ],
   "source": [
    "print(train.groupby(\"Age_Bucket\").Policy_Sales_Channel.agg(Series.mode))\n",
    "print(\"\\n\")\n",
    "print(\"Response rate for most used communication:\")\n",
    "\n",
    "print(\"A:- \",train[((train.Age_Bucket==\"A\")&(train.Policy_Sales_Channel==152))].Response.mean())\n",
    "print(\"B:- \",train[((train.Age_Bucket==\"B\")&(train.Policy_Sales_Channel==124))].Response.mean())\n",
    "print(\"C:- \",train[((train.Age_Bucket==\"C\")&(train.Policy_Sales_Channel==26))].Response.mean())"
   ]
  },
  {
   "cell_type": "markdown",
   "metadata": {},
   "source": [
    "1) Different age group are targeted by different policy sales channel.<br>\n",
    "2) By the response rate, it seems \"A\" has very poor response rate. This implies the mode of communication used for \"A\" is not effective. <br>\n",
    "3) Response rate for \"B\" is very good, which implies mode of communication used is working.<br>"
   ]
  },
  {
   "cell_type": "markdown",
   "metadata": {},
   "source": [
    "### Is there any relation between Vehicle damage and previously insured?"
   ]
  },
  {
   "cell_type": "code",
   "execution_count": 76,
   "metadata": {},
   "outputs": [
    {
     "data": {
      "text/plain": [
       "<seaborn.axisgrid.FacetGrid at 0x1915663288>"
      ]
     },
     "execution_count": 76,
     "metadata": {},
     "output_type": "execute_result"
    },
    {
     "data": {
      "image/png": "[encoded data removed]",
      "text/plain": [
       "<Figure size 360x360 with 1 Axes>"
      ]
     },
     "metadata": {
      "needs_background": "light"
     },
     "output_type": "display_data"
    }
   ],
   "source": [
    "sns.lmplot(\"Previously_Insured\",\"Vehicle_Damage\",data=train)"
   ]
  },
  {
   "cell_type": "markdown",
   "metadata": {},
   "source": [
    "**`Previously Insured and Vehicle damage have very strong negative correlation.`**"
   ]
  },
  {
   "cell_type": "markdown",
   "metadata": {},
   "source": [
    "### Is there any relation between previously insured and response?"
   ]
  },
  {
   "cell_type": "code",
   "execution_count": 77,
   "metadata": {},
   "outputs": [
    {
     "data": {
      "text/plain": [
       "<seaborn.axisgrid.FacetGrid at 0x1912ce0f88>"
      ]
     },
     "execution_count": 77,
     "metadata": {},
     "output_type": "execute_result"
    },
    {
     "data": {
      "image/png": "[encoded data removed]",
      "text/plain": [
       "<Figure size 360x360 with 1 Axes>"
      ]
     },
     "metadata": {
      "needs_background": "light"
     },
     "output_type": "display_data"
    }
   ],
   "source": [
    "sns.lmplot(\"Previously_Insured\",\"Response\",data=train)"
   ]
  },
  {
   "cell_type": "markdown",
   "metadata": {},
   "source": [
    "**Previously Insured and response have very slight negative correlation.**"
   ]
  },
  {
   "cell_type": "code",
   "execution_count": 29,
   "metadata": {
    "scrolled": true
   },
   "outputs": [
    {
     "name": "stdout",
     "output_type": "stream",
     "text": [
      "Vehicle_Age\n",
      "1-2 Year     30523.582120\n",
      "< 1 Year     30119.552025\n",
      "> 2 Years    35654.499469\n",
      "Name: Annual_Premium, dtype: float64\n"
     ]
    },
    {
     "data": {
      "image/png": "[encoded data removed]",
      "text/plain": [
       "<Figure size 432x288 with 1 Axes>"
      ]
     },
     "metadata": {
      "needs_background": "light"
     },
     "output_type": "display_data"
    }
   ],
   "source": [
    "print(train.groupby(\"Vehicle_Age\").Annual_Premium.mean())\n",
    "train.groupby(\"Vehicle_Age\").Annual_Premium.mean().plot(kind='bar',cmap='summer')\n",
    "plt.xticks(rotation='horizontal')\n",
    "plt.ylabel(\"Annual Premium\")\n",
    "plt.tight_layout()\n"
   ]
  },
  {
   "cell_type": "markdown",
   "metadata": {},
   "source": [
    "Annual premium has some correlation with Vehicle age. Annual premium goes higher as vehicle age increases. Once the vehicle is more than 2 years old, premium increase exponentially."
   ]
  },
  {
   "cell_type": "markdown",
   "metadata": {},
   "source": [
    "### Is there any kind of relation between Vehicle Age and Vehicle damage?"
   ]
  },
  {
   "cell_type": "markdown",
   "metadata": {},
   "source": [
    "Ideally, there should be a direct relationship between vehicle age and vehicle damage. As the age of vehicle increases, there is high chances of vehicle damage. Let's see what does the data say."
   ]
  },
  {
   "cell_type": "code",
   "execution_count": 82,
   "metadata": {},
   "outputs": [
    {
     "name": "stdout",
     "output_type": "stream",
     "text": [
      "Vehicle_Age\n",
      "1-2 Year     0.640114\n",
      "< 1 Year     0.292476\n",
      "> 2 Years    0.999063\n",
      "Name: Vehicle_Damage, dtype: float64\n"
     ]
    },
    {
     "data": {
      "image/png": "[encoded data removed]",
      "text/plain": [
       "<Figure size 432x288 with 1 Axes>"
      ]
     },
     "metadata": {
      "needs_background": "light"
     },
     "output_type": "display_data"
    }
   ],
   "source": [
    "print(train.groupby(\"Vehicle_Age\").Vehicle_Damage.mean())\n",
    "train.groupby(\"Vehicle_Age\").Vehicle_Damage.mean().plot(kind='bar',cmap='summer')\n",
    "plt.xticks(rotation='horizontal')\n",
    "plt.tight_layout()"
   ]
  },
  {
   "cell_type": "markdown",
   "metadata": {},
   "source": [
    "1) Vehicle damage for vehicle whose age is greater than 2 years is near to 1. This implies, vehicle which are more than 2 years old have undergone damage.<br>\n",
    "2) Vehicle Damage exponential changes with vehicle age increases.<br>\n",
    "3) There is more than 100 percent increase in vehicle damage when vehicle age increases from <1 to 1-2 years. <br>\n",
    "4) There is nearly 33 percent increase in vehicle damage when vehicle age increases from 1-2 to >2 years."
   ]
  },
  {
   "cell_type": "markdown",
   "metadata": {},
   "source": [
    "### Does age of vehicle affect response?"
   ]
  },
  {
   "cell_type": "code",
   "execution_count": 85,
   "metadata": {},
   "outputs": [
    {
     "name": "stdout",
     "output_type": "stream",
     "text": [
      "Vehicle_Age\n",
      "1-2 Year     0.173755\n",
      "< 1 Year     0.043705\n",
      "> 2 Years    0.293746\n",
      "Name: Response, dtype: float64\n"
     ]
    },
    {
     "data": {
      "image/png": "[encoded data removed]",
      "text/plain": [
       "<Figure size 432x288 with 1 Axes>"
      ]
     },
     "metadata": {
      "needs_background": "light"
     },
     "output_type": "display_data"
    }
   ],
   "source": [
    "print(train.groupby(\"Vehicle_Age\")[\"Response\"].mean())\n",
    "train.groupby(\"Vehicle_Age\")[\"Response\"].mean().plot(kind='bar',cmap='summer')\n",
    "plt.xticks(rotation='horizontal')\n",
    "plt.tight_layout()"
   ]
  },
  {
   "cell_type": "markdown",
   "metadata": {},
   "source": [
    "#### There is some correlation between Vehicle Age and Response.\n",
    "1) As vehicle age increases probablity of getting response increases.<br>\n",
    "2) Response rate increase by more than 400 percent as vehicle age increases from <1 years to 1-2 years.<br>\n",
    "3) Response rate increases by nearly 70 percent as vehicle age increases from 1-2 years to >2 years."
   ]
  },
  {
   "cell_type": "markdown",
   "metadata": {},
   "source": [
    "# Summary "
   ]
  },
  {
   "cell_type": "markdown",
   "metadata": {},
   "source": [
    "* More male can be targeted for better response rate.\n",
    "* More female get their vehicle insured.\n",
    "* When vehicle is previously insured, it has very low response rate.\n",
    "* Response rate is much higher when a vehicle is already damaged.\n",
    "* There is no difference between annual premium paid by both the gender.\n",
    "* Policy sales channel used most frequently for both the gender has very low response rate. Change in policy saled channel is required.\n",
    "* People in age group of 20-35 are targeted most even having least response rate. Different age group should be targeted to increase response rate. However, there is one question, why there is low reponse rate  young age group. \n",
    "* Young people tend to not involve in vehicle damage.\n",
    "* Annual premium increases with age.\n",
    "* Different age groups are using different policy sales channels, out of which 20-35 age group has very low response rate. Is there any issue with the kind of policy sales channel we are using to target young people.\n",
    "* Vehicle damage is propotional to age of vehicle. According to the data, almost 100 percent vehicles are damaged whose age is greater than 2 years.\n",
    "* Vehicle age is propotional to response rate. Vehicle with age greater than 2 years has response rate near to 30 percent."
   ]
  }
 ],
 "metadata": {
  "kernelspec": {
   "display_name": "Python 3",
   "language": "python",
   "name": "python3"
  },
  "language_info": {
   "codemirror_mode": {
    "name": "ipython",
    "version": 3
   },
   "file_extension": ".py",
   "mimetype": "text/x-python",
   "name": "python",
   "nbconvert_exporter": "python",
   "pygments_lexer": "ipython3",
   "version": "3.7.4"
  }
 },
 "nbformat": 4,
 "nbformat_minor": 2
}
